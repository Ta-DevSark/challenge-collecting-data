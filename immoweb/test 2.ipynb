{
 "cells": [
  {
   "cell_type": "code",
   "execution_count": 33,
   "metadata": {},
   "outputs": [],
   "source": [
    "import requests\n",
    "import bs4\n",
    "import json\n",
    "import pandas as pd"
   ]
  },
  {
   "cell_type": "code",
   "execution_count": 34,
   "metadata": {},
   "outputs": [],
   "source": [
    "url = 'https://www.immoweb.be/en/classified/house/for-sale/saint-hubert/6870/10437329'"
   ]
  },
  {
   "cell_type": "code",
   "execution_count": 35,
   "metadata": {},
   "outputs": [],
   "source": [
    "resp = requests.get(url)"
   ]
  },
  {
   "cell_type": "code",
   "execution_count": 42,
   "metadata": {},
   "outputs": [
    {
     "name": "stderr",
     "output_type": "stream",
     "text": [
      "/var/folders/j2/pznq1b5113x96pn3zf4hm4zm0000gn/T/ipykernel_12275/3004451945.py:1: UserWarning: DataFrame columns are not unique, some columns will be omitted.\n",
      "  pd.concat(pd.read_html(resp.text)).set_index(0).T.to_dict(orient='records')[0]\n"
     ]
    },
    {
     "data": {
      "text/plain": [
       "{'Available as of': 'After signing the deed',\n",
       " 'Construction year': '1850',\n",
       " 'Building condition': 'To be done up',\n",
       " 'Street frontage width': '3 m',\n",
       " 'Number of frontages': '2',\n",
       " 'Surroundings type': 'Isolated',\n",
       " 'Virtual visit': 'Link to the virtual visit',\n",
       " 'Living area': '81  m² square meters',\n",
       " 'Living room surface': '22  m² square meters',\n",
       " 'Dining room': 'Yes',\n",
       " 'Kitchen type': 'Semi equipped',\n",
       " 'Kitchen surface': '11  m² square meters',\n",
       " 'Bedrooms': '2',\n",
       " 'Bedroom 1 surface': '21  m² square meters',\n",
       " 'Bedroom 2 surface': '13  m² square meters',\n",
       " 'Bathrooms': '1',\n",
       " 'Toilets': '1',\n",
       " 'Basement surface': '8  m² square meters',\n",
       " 'Attic surface': '26  m² square meters',\n",
       " 'Furnished': 'No',\n",
       " 'Surface of the plot': '65  m²  square meters',\n",
       " 'Width of the lot on the street': '4 m  meters',\n",
       " 'Connection to sewer network': 'Connected',\n",
       " 'Terrace': 'Yes',\n",
       " 'Elevator': 'No',\n",
       " 'Accessible for disabled people': 'No',\n",
       " 'TV cable': 'Yes',\n",
       " 'Swimming pool': 'No',\n",
       " 'Primary energy consumption': '487  kWh/m²  kilowatt hour per square meters',\n",
       " 'Energy class': 'F',\n",
       " nan: nan,\n",
       " 'Reference number of the EPC report': '20230306006553',\n",
       " 'CO₂ emission': '10 kg CO₂/m²',\n",
       " 'Yearly theoretical total energy consumption': '44201 kWh/year',\n",
       " 'As built plan': 'No',\n",
       " 'Heating type': 'Pellet',\n",
       " 'Double glazing': 'Yes',\n",
       " 'Total ground floor buildable': '65  m²  square meters',\n",
       " 'Subdivision permit': 'No',\n",
       " 'Possible priority purchase right': 'No',\n",
       " 'Proceedings for breach of planning regulations': 'No',\n",
       " 'Flood zone type': 'Non flood zone',\n",
       " 'Latest land use designation': 'Living area (residential, urban or rural)',\n",
       " 'Price': 'Make an offer starting from  € 99,000  Make an offer starting from  99000 €',\n",
       " 'Cadastral income': '€ 404  404 €',\n",
       " 'Tenement building': 'No',\n",
       " 'Address': \"Chaussée de l'Ourthe 65 6900  - Marche-en-Famenne\",\n",
       " 'Website': 'http://www.weinvest.be',\n",
       " 'External reference': '5239995'}"
      ]
     },
     "execution_count": 42,
     "metadata": {},
     "output_type": "execute_result"
    }
   ],
   "source": [
    "pd.concat(pd.read_html(resp.text)).set_index(0).T.to_dict(orient='records')[0]"
   ]
  },
  {
   "cell_type": "code",
   "execution_count": 28,
   "metadata": {},
   "outputs": [],
   "source": [
    "soup = bs4.BeautifulSoup(resp.text)"
   ]
  },
  {
   "cell_type": "code",
   "execution_count": 29,
   "metadata": {},
   "outputs": [],
   "source": [
    "json_part = resp.text.split('window.dataLayer = ')[1]\n",
    "json_part = json_part.split(';')[0]"
   ]
  },
  {
   "cell_type": "code",
   "execution_count": 30,
   "metadata": {},
   "outputs": [
    {
     "data": {
      "text/plain": [
       "[{'user': {'loginStatus': 'logged out',\n",
       "   'id': '',\n",
       "   'personal': {'language': ''}},\n",
       "  'classified': {'id': '10437329',\n",
       "   'type': 'house',\n",
       "   'subtype': 'house',\n",
       "   'price': '99000',\n",
       "   'transactionType': 'for sale',\n",
       "   'zip': '6870',\n",
       "   'visualisationOption': 'xl',\n",
       "   'kitchen': {'type': 'semi equipped'},\n",
       "   'building': {'constructionYear': '1850', 'condition': 'to be done up'},\n",
       "   'energy': {'heatingType': 'pellet'},\n",
       "   'certificates': {'primaryEnergyConsumptionLevel': '487'},\n",
       "   'bedroom': {'count': '2'},\n",
       "   'land': {'surface': '65'},\n",
       "   'atticExists': 'true',\n",
       "   'basementExists': 'true',\n",
       "   'outdoor': {'garden': {'surface': ''}, 'terrace': {'exists': 'true'}},\n",
       "   'specificities': {'SME': {'office': {'exists': ''}}},\n",
       "   'wellnessEquipment': {'hasSwimmingPool': ''},\n",
       "   'parking': {'parkingSpaceCount': {'indoor': '', 'outdoor': ''}},\n",
       "   'condition': {'isNewlyBuilt': ''}},\n",
       "  'customer': {'id': '3853970',\n",
       "   'name': 'we invest marche',\n",
       "   'family': 'agency',\n",
       "   'groupInfo': {'id': '', 'name': ''},\n",
       "   'networkInfo': {'id': '', 'name': ''}},\n",
       "  'screen': {'name': 'classified details', 'language': 'en'}}]"
      ]
     },
     "execution_count": 30,
     "metadata": {},
     "output_type": "execute_result"
    }
   ],
   "source": [
    "json.loads(json_part)"
   ]
  },
  {
   "cell_type": "markdown",
   "metadata": {},
   "source": []
  },
  {
   "cell_type": "code",
   "execution_count": null,
   "metadata": {},
   "outputs": [],
   "source": []
  }
 ],
 "metadata": {
  "kernelspec": {
   "display_name": "immo_env",
   "language": "python",
   "name": "python3"
  },
  "language_info": {
   "codemirror_mode": {
    "name": "ipython",
    "version": 3
   },
   "file_extension": ".py",
   "mimetype": "text/x-python",
   "name": "python",
   "nbconvert_exporter": "python",
   "pygments_lexer": "ipython3",
   "version": "3.11.3"
  },
  "orig_nbformat": 4
 },
 "nbformat": 4,
 "nbformat_minor": 2
}
